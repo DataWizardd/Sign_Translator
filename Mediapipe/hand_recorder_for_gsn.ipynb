{
 "cells": [
  {
   "cell_type": "markdown",
   "id": "4e718c3f-3785-409b-9a8f-45380dd03357",
   "metadata": {},
   "source": [
    "# 0. Install"
   ]
  },
  {
   "cell_type": "code",
   "execution_count": null,
   "id": "0f404d1f-c512-48df-aa27-1e92edfaa379",
   "metadata": {},
   "outputs": [],
   "source": [
    "pip install opencv-python"
   ]
  },
  {
   "cell_type": "code",
   "execution_count": null,
   "id": "4e67413f-06e9-42f1-8c9e-72a866294c1a",
   "metadata": {},
   "outputs": [],
   "source": [
    "pip install mediapipe"
   ]
  },
  {
   "cell_type": "markdown",
   "id": "5aad0fe0-cf74-4ed4-a64e-7ac342efd058",
   "metadata": {},
   "source": [
    "# 1. Library"
   ]
  },
  {
   "cell_type": "code",
   "execution_count": 1,
   "id": "a490cd1f-ed41-4a4e-a132-10a836a597a9",
   "metadata": {},
   "outputs": [],
   "source": [
    "import cv2\n",
    "import mediapipe as mp\n",
    "import csv\n",
    "import os\n",
    "import time"
   ]
  },
  {
   "cell_type": "markdown",
   "id": "90456a1d-b5d4-43bd-99da-b5e732faa68c",
   "metadata": {},
   "source": [
    "# 2. Mediapip Open(for GSN)"
   ]
  },
  {
   "cell_type": "code",
   "execution_count": 28,
   "id": "dab94f10-88af-4ce8-a5cf-d3c8b63a3e76",
   "metadata": {},
   "outputs": [
    {
     "name": "stdout",
     "output_type": "stream",
     "text": [
      "Continuous data collection started.\n",
      "Exiting. Data saved to data\\gsn_new_2\\469.csv\n"
     ]
    }
   ],
   "source": [
    "# 데이터 저장 폴더 설정\n",
    "output_dir = r\"data\\gsn\"\n",
    "if not os.path.exists(output_dir):\n",
    "    os.makedirs(output_dir)\n",
    "\n",
    "# 파일명 설정\n",
    "csv_filename_base = \"469\"  # 파일명 수정할 것\n",
    "csv_filename = os.path.join(output_dir, f\"{csv_filename_base}.csv\")\n",
    "video_filename = os.path.join(output_dir, f\"{csv_filename_base}.avi\")  \n",
    "\n",
    "# 미디어파이프 설정\n",
    "mp_hands = mp.solutions.hands\n",
    "hands = mp_hands.Hands(\n",
    "    static_image_mode=False,\n",
    "    max_num_hands=2,\n",
    "    min_detection_confidence=0.5,\n",
    "    min_tracking_confidence=0.5\n",
    ")\n",
    "\n",
    "mp_drawing = mp.solutions.drawing_utils\n",
    "\n",
    "# 웹캠 오픈\n",
    "cap = cv2.VideoCapture(0)\n",
    "cap.set(cv2.CAP_PROP_FRAME_WIDTH, 640)\n",
    "cap.set(cv2.CAP_PROP_FRAME_HEIGHT, 480)\n",
    "\n",
    "# VideoWriter 설정\n",
    "fourcc = cv2.VideoWriter_fourcc(*'XVID')\n",
    "out = cv2.VideoWriter(video_filename, fourcc, 20.0, (640, 480))\n",
    "\n",
    "exit_requested = False\n",
    "print(\"Continuous data collection started.\")\n",
    "\n",
    "with open(csv_filename, \"w\", newline=\"\") as csvfile:\n",
    "    writer = csv.writer(csvfile)\n",
    "\n",
    "    header = [\"timestamp\", \"hand_detected\"]\n",
    "    for hand in ['hand1', 'hand2']:\n",
    "        for i in range(21):\n",
    "            header.extend([f\"{hand}_landmark{i}_x\", f\"{hand}_landmark{i}_y\", f\"{hand}_landmark{i}_z\"])\n",
    "    writer.writerow(header)\n",
    "\n",
    "    while not exit_requested:\n",
    "        ret, frame = cap.read()\n",
    "        if not ret:\n",
    "            print(\"Error: Could not retrieve frame.\")\n",
    "            break\n",
    "\n",
    "        frame = cv2.flip(frame, 1)\n",
    "        image_rgb = cv2.cvtColor(frame, cv2.COLOR_BGR2RGB)\n",
    "        image_rgb.flags.writeable = False\n",
    "        results = hands.process(image_rgb)\n",
    "        image_rgb.flags.writeable = True\n",
    "\n",
    "        ts = time.time()\n",
    "        row = [ts]\n",
    "\n",
    "        if results.multi_hand_landmarks:\n",
    "            hand_detected = 1\n",
    "        else:\n",
    "            hand_detected = 0\n",
    "        row.append(hand_detected)\n",
    "\n",
    "        if results.multi_hand_landmarks:\n",
    "            landmarks_all = []\n",
    "            for hand_landmarks in results.multi_hand_landmarks:\n",
    "                landmarks = []\n",
    "                for lm in hand_landmarks.landmark:\n",
    "                    landmarks.extend([lm.x, lm.y, lm.z])\n",
    "                landmarks_all.append(landmarks)\n",
    "            row.extend(landmarks_all[0])\n",
    "            if len(landmarks_all) >= 2:\n",
    "                row.extend(landmarks_all[1])\n",
    "            else:\n",
    "                row.extend([0] * 63)\n",
    "        else:\n",
    "            row.extend([0] * 126)\n",
    "\n",
    "        writer.writerow(row)\n",
    "\n",
    "        if results.multi_hand_landmarks:\n",
    "            for hand_landmarks in results.multi_hand_landmarks:\n",
    "                mp_drawing.draw_landmarks(frame, hand_landmarks, mp_hands.HAND_CONNECTIONS)\n",
    "\n",
    "        cv2.imshow(\"Continuous Data Collection\", frame)\n",
    "        \n",
    "        out.write(frame)\n",
    "\n",
    "        key = cv2.waitKey(1) & 0xFF\n",
    "        if key == ord('q'):\n",
    "            exit_requested = True\n",
    "\n",
    "# 끝\n",
    "cap.release()\n",
    "out.release()\n",
    "cv2.destroyAllWindows()\n",
    "hands.close()\n",
    "print(f\"Exiting. Data saved to {csv_filename} and {video_filename}\")"
   ]
  }
 ],
 "metadata": {
  "kernelspec": {
   "display_name": "tf218_keras37",
   "language": "python",
   "name": "tf218_keras37"
  },
  "language_info": {
   "codemirror_mode": {
    "name": "ipython",
    "version": 3
   },
   "file_extension": ".py",
   "mimetype": "text/x-python",
   "name": "python",
   "nbconvert_exporter": "python",
   "pygments_lexer": "ipython3",
   "version": "3.9.21"
  }
 },
 "nbformat": 4,
 "nbformat_minor": 5
}
